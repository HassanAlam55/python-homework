{
 "cells": [
  {
   "cell_type": "markdown",
   "id": "blond-affiliate",
   "metadata": {},
   "source": [
    "## PyBank (Required)\n",
    "### The HW assignement is described in this cell \n",
    "### Subsequent cells alternate Markdown and Code\n",
    "#### Markdown Cells describe the Code Cell(s) below it.\n",
    "In this activity, you are tasked with creating a Python script for analyzing the financial records of your company. You will be provided with a financial dataset in this file: [budget_data.csv](PyBank/Resources/budget_data.csv). This dataset is composed of two columns, Date and Profit/Losses. (Thankfully, your company has rather lax standards for accounting, so the records are simple.)\n",
    "\n",
    "Your task is to create a Python script that analyzes the records to calculate each of the following:\n",
    "* The total number of months included in the dataset.\n",
    "* The net total amount of Profit/Losses over the entire period.\n",
    "* The average of the changes in Profit/Losses over the entire period.\n",
    "* The greatest increase in profits (date and amount) over the entire period.\n",
    "* The greatest decrease in losses (date and amount) over the entire period.\n",
    "\n",
    "Your resulting analysis should look similar to the following:\n",
    "\n",
    "```text\n",
    "  Financial Analysis\n",
    "  ----------------------------\n",
    "  Total Months: 86\n",
    "  Total: $38382578\n",
    "  Average  Change: $-2315.12\n",
    "  Greatest Increase in Profits: Feb-2012 ($1926159)\n",
    "  Greatest Decrease in Profits: Sep-2013 ($-2196167)\n",
    "  ```\n",
    "\n",
    "Your final script should print the analysis to the terminal and export a text file with the results."
   ]
  },
  {
   "cell_type": "markdown",
   "id": "confused-transfer",
   "metadata": {},
   "source": [
    "### 1.0 set up environment and path"
   ]
  },
  {
   "cell_type": "code",
   "execution_count": 11,
   "id": "entire-nurse",
   "metadata": {},
   "outputs": [],
   "source": [
    "# set up environment\n",
    "from pathlib import Path\n",
    "import csv\n",
    "\n",
    "# set up path for file in local directory\n",
    "csvpath = Path('./budget_data.csv')"
   ]
  },
  {
   "cell_type": "markdown",
   "id": "electronic-outdoors",
   "metadata": {},
   "source": [
    "### 2.0 Main Program\n",
    "#### 2.1 initialize global variable for the data for HW\n",
    "#### 2.2 open file and read header\n",
    "#### 2.3 loop throgh rest of file and update the global variables"
   ]
  },
  {
   "cell_type": "code",
   "execution_count": 12,
   "id": "tribal-drink",
   "metadata": {},
   "outputs": [],
   "source": [
    "# set up global variable\n",
    "\n",
    "monthly_pl = [] # list to hold data from budget_data.csv\n",
    "month_number = 0 # line number as we read file (same as mon)\n",
    "total_profit = 0 # total profit\n",
    "greatest_profit_increase = 0 # maximum single period increase\n",
    "max_profit_increase_month = '' # month greatest profit increase occured\n",
    "greatest_profit_decrease = 0 # maxium profit decrease\n",
    "max_profit_decrease_month = '' # month greatest profit decrease occured\n",
    "\n",
    "# read the file and update running totals\n",
    "with open(csvpath, 'r') as csvfile:\n",
    "    # set up csv reader that is ',' separated.    \n",
    "    csvreader = csv.reader(csvfile, delimiter=',')\n",
    "    \n",
    "    #read the header line\n",
    "    header = next(csvreader)  \n",
    "    #read the rest of file line by line amd update values\n",
    "    for row in csvreader:\n",
    "        monthly_pl.append(row) # add to list of monthly profits\n",
    "        month_number += 1 # increment month number\n",
    "        total_profit += int(row[1]) #add to total profit\n",
    "\n",
    "        # assume last greatest increase or decrease is zero.\n",
    "        # dont do anything in first month\n",
    "        if month_number > 1:\n",
    "            change_in_profit = int(row[1]) -int( monthly_pl [month_number - 2][1]) #subtract last months profit from this months profit\n",
    " \n",
    "            #compute increase in profit\n",
    "            #check if increase in profit and greater than last maximum\n",
    "            # then update great profit and month\n",
    "            if change_in_profit > 0 and change_in_profit > greatest_profit_increase:\n",
    "                greatest_profit_increase = change_in_profit\n",
    "                max_profit_increase_month = monthly_pl[month_number-1][0]\n",
    "                \n",
    "            #check if decrease in profit and greater than last maximum\n",
    "            # then update great profit decrease and month \n",
    "            # put in elif to lower computation in large loops.\n",
    "            elif change_in_profit < 0 and change_in_profit < greatest_profit_decrease:\n",
    "                greatest_profit_decrease = change_in_profit\n",
    "                max_profit_decrease_month = monthly_pl[month_number-1][0]            \n",
    "                "
   ]
  },
  {
   "cell_type": "markdown",
   "id": "competitive-seminar",
   "metadata": {},
   "source": [
    "### 3.0 print out results"
   ]
  },
  {
   "cell_type": "code",
   "execution_count": 13,
   "id": "sorted-stability",
   "metadata": {},
   "outputs": [
    {
     "name": "stdout",
     "output_type": "stream",
     "text": [
      "Financial Analysis\n",
      "------------------------------\n",
      "Total Months: 86\n",
      "Total: 86\n",
      "Greatest Increase in Profit: Feb-2012 ($1926159)\n",
      "Greatest Decrease in Profit: Sep-2013 ($-2196167)\n"
     ]
    }
   ],
   "source": [
    "# print results\n",
    "print ('Financial Analysis')\n",
    "print ('------------------------------')\n",
    "print (f'Total Months: {month_number}')\n",
    "print (f'Total: {month_number}')\n",
    "print (f'Greatest Increase in Profit: {max_profit_increase_month} (${greatest_profit_increase})')\n",
    "print (f'Greatest Decrease in Profit: {max_profit_decrease_month} (${greatest_profit_decrease})')"
   ]
  }
 ],
 "metadata": {
  "kernelspec": {
   "display_name": "Python 3",
   "language": "python",
   "name": "python3"
  },
  "language_info": {
   "codemirror_mode": {
    "name": "ipython",
    "version": 3
   },
   "file_extension": ".py",
   "mimetype": "text/x-python",
   "name": "python",
   "nbconvert_exporter": "python",
   "pygments_lexer": "ipython3",
   "version": "3.7.10"
  }
 },
 "nbformat": 4,
 "nbformat_minor": 5
}
