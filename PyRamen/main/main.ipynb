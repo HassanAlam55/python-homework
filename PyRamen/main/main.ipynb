{
 "cells": [
  {
   "cell_type": "markdown",
   "id": "confirmed-tulsa",
   "metadata": {},
   "source": [
    "## PyRamen (Optional)\n",
    "### The HW assignement is described in this cell \n",
    "### Subsequent cells alternate Markdown and Code\n",
    "#### Markdown Cells describe the Code Cell(s) below it\n",
    "## Background\n",
    "Welcome to Ichiban Ramen!\n",
    "\n",
    "Opening a ramen shop has always been your dream, and now it's finally been realized––you're closing out on your second year of sales! Like last year, you need to analyze your business's financial performance by cross-referencing your sales data with your internal menu data to figure out revenues and costs for the year.\n",
    "\n",
    "This year, you also want to analyze how well your business did on a per-product basis (as you have several choices of ramen) in order to better understand which products are doing well, which are doing poorly, and, ultimately, which products may need to be removed or changed.\n",
    "\n",
    "You tried doing this type of per-product analysis last year in Excel, but you were not able to keep your reports up-to-date with your current sales data. Therefore, you need to innovate. With more customers and more data to process, you'll need a tool that will allow you to automate your calculations in a manner that scales with your business.\n",
    "\n",
    "Enter Python! Python provides a wide range of capabilities for handling data, harnessing the power of low-level Python data structures and high-level development libraries, all the while supporting the automation and scalability needs for a growing enterprise.\n",
    "\n",
    "In this homework assignment, you will need to:\n",
    "\n",
    "1. [Read the Data](#Read-the-Data)\n",
    "2. [Manipulate the Data](#Manipulate-the-Data)\n",
    "\n",
    "---\n",
    "\n",
    "## Instructions\n",
    "### Read the Data\n",
    "Complete the following:\n",
    "\n",
    "* Read in `menu_data.csv` and set its contents to a separate list object. (This way, you can cross-reference your menu data with your sales data as you read in your sales data in the coming steps.)\n",
    "\n",
    "  * Initialize an empty `menu` list object to hold the contents of `menu_data.csv`.\n",
    "  * Use a `with` statement and open the `menu_data.csv` by using its file path.\n",
    "  * Use the `reader` function from the `csv` library to begin reading `menu_data.csv`.\n",
    "  * Use the `next` function to skip the header (first row of the CSV).\n",
    "  * Loop over the rest of the rows and append every row to the `menu` list object (the outcome will be a list of lists).\n",
    "\n",
    "* Set up the same process to read in `sales_data.csv`. However, instead append every row of the sales data to a new `sales` list object.\n",
    "\n",
    "### Manipulate the Data\n",
    "Complete the following:\n",
    "\n",
    "* Initialize an empty `report` dictionary to hold the future aggregated per-product results. The `report` dictionary will eventually contain the following metrics:\n",
    "\n",
    "  * `01-count`: the total quantity for each ramen type\n",
    "  * `02-revenue`: the total revenue for each ramen type\n",
    "  * `03-cogs`: the total cost of goods sold for each ramen type\n",
    "  * `04-profit`: the total profit for each ramen type\n",
    "\n",
    "* Then, loop through every row in the `sales` list object.\n",
    "\n",
    "  * For each row of the `sales` data, set the following columns of the sales data to their own variables:\n",
    "\n",
    "    * Quantity\n",
    "    * Menu_Item\n",
    "\n",
    "  * Perform a quick check if the `sales_item` is already included in the `report`. If not, initialize the key-value pairs for the particular `sales_item` in the report. Then, set the `sales_item` as a new key to the `report` dictionary and the values as a nested dictionary containing the following:\n",
    "\n",
    "    ```python\n",
    "    {\n",
    "    \"01-count\": 0,\n",
    "    \"02-revenue\": 0,\n",
    "    \"03-cogs\": 0,\n",
    "    \"04-profit\": 0,\n",
    "    }\n",
    "    ```\n",
    "\n",
    "* Create a nested loop by looping through every record in `menu`.\n",
    "\n",
    "  * For each row of the `menu` data, set the following columns of the menu data to their own variables:\n",
    "\n",
    "    * Item\n",
    "    * Price\n",
    "    * Cost\n",
    "\n",
    "  * If the `sales_item` in sales is equal to the `item` in `menu`, capture the `quantity` from the sales data and the `price` and `cost` from the menu data to calculate the `profit` for each item.\n",
    "\n",
    "    * Cumulatively add the values to the corresponding metrics in the report like so:\n",
    "\n",
    "      ```python\n",
    "      report[sales_item][\"01-count\"] += quantity\n",
    "      report[sales_item][\"02-revenue\"] += price * quantity\n",
    "      report[sales_item][\"03-cogs\"] += cost * quantity\n",
    "      report[sales_item][\"04-profit\"] += profit * quantity\n",
    "      ```\n",
    "\n",
    "  * Else print the message \"{sales_item} does not equal {item}! NO MATCH!\".\n",
    "\n",
    "* Write out the contents of the `report` dictionary to a text file. The report should output each ramen type as the keys and `01-count`, `02-revenue`, `03-cogs`, and `04-profit` metrics as the values for every ramen type as shown:\n",
    "\n",
    "  ```\n",
    "  spicy miso ramen {'01-count': 9238, '02-revenue': 110856.0, '03-cogs': 46190.0, '04-profit': 64666.0}\n",
    "  tori paitan ramen {'01-count': 9156, '02-revenue': 119028.0, '03-cogs': 54936.0, '04-profit': 64092.0}\n",
    "  truffle butter ramen {'01-count': 8982, '02-revenue': 125748.0, '03-cogs': 62874.0, '04-profit': 62874.0}\n",
    "  tonkotsu ramen {'01-count': 9288, '02-revenue': 120744.0, '03-cogs': 55728.0, '04-profit': 65016.0}\n",
    "  vegetarian spicy miso {'01-count': 9216, '02-revenue': 110592.0, '03-cogs': 46080.0, '04-profit': 64512.0}\n",
    "  shio ramen {'01-count': 9180, '02-revenue': 100980.0, '03-cogs': 45900.0, '04-profit': 55080.0}\n",
    "  miso crab ramen {'01-count': 8890, '02-revenue': 106680.0, '03-cogs': 53340.0, '04-profit': 53340.0}\n",
    "  nagomi shoyu {'01-count': 9132, '02-revenue': 100452.0, '03-cogs': 45660.0, '04-profit': 54792.0}\n",
    "  soft-shell miso crab ramen {'01-count': 9130, '02-revenue': 127820.0, '03-cogs': 63910.0, '04-profit': 63910.0}\n",
    "  burnt garlic tonkotsu ramen {'01-count': 9070, '02-revenue': 126980.0, '03-cogs': 54420.0, '04-profit': 72560.0}\n",
    "  vegetarian curry + king trumpet mushroom ramen {'01-count': 8824, '02-revenue': 114712.0, '03-cogs': 61768.0, '04-profit': 52944.0}\n",
    "  ```\n",
    "\n",
    "---"
   ]
  },
  {
   "cell_type": "markdown",
   "id": "fiscal-function",
   "metadata": {},
   "source": [
    "### 1. import libaries and paths"
   ]
  },
  {
   "cell_type": "code",
   "execution_count": 59,
   "id": "joined-algebra",
   "metadata": {},
   "outputs": [],
   "source": [
    "\"\"\"PyRamen Homework Starter.\"\"\"\n",
    "#mport libraries only once\n",
    "import csv\n",
    "from pathlib import Path\n",
    "\n",
    "#Set file paths for menu_data.csv and sales_data.csv\n",
    "menu_filepath = Path('./menu_data.csv')\n",
    "sales_filepath = Path('./sales_data.csv')"
   ]
  },
  {
   "cell_type": "markdown",
   "id": "large-yorkshire",
   "metadata": {},
   "source": [
    "### 2. read read menu and sales csv into list of lists"
   ]
  },
  {
   "cell_type": "code",
   "execution_count": 60,
   "id": "magnetic-render",
   "metadata": {},
   "outputs": [],
   "source": [
    "#Initialize list objects to hold our menu and sales data\n",
    "menu = []\n",
    "sales = []\n",
    "menu_count = 0 #number of item in menu\n",
    "sales_count = 0 #number of sales\n",
    "\n",
    "# Read in the menu data into the menu list\n",
    "with open(menu_filepath, 'r') as menucsvfile:\n",
    "     \n",
    "    menu_csvreader = csv.reader(menucsvfile, delimiter=',') #initliaz reader\n",
    "    \n",
    "    #create menu header\n",
    "    menu_header = next(menu_csvreader)\n",
    "    \n",
    "    #loop and read line and increment counter\n",
    "    for menu_row in menu_csvreader:\n",
    "        menu.append(menu_row)\n",
    "        menu_count += 1\n",
    "        \n",
    "# Read in the sales data into the sales list\n",
    "\n",
    "with open(sales_filepath, 'r') as salescsvfile:\n",
    "     \n",
    "    sales_csvreader = csv.reader(salescsvfile, delimiter=',') #initliaz reader\n",
    "    \n",
    "    #create menu header\n",
    "    sales_header = next(sales_csvreader)\n",
    "    \n",
    "    #loop and read line and increment counter\n",
    "    for sales_row in sales_csvreader:\n",
    "        sales.append(sales_row)\n",
    "        sales_count += 1\n"
   ]
  },
  {
   "cell_type": "markdown",
   "id": "hungry-egypt",
   "metadata": {},
   "source": [
    "### 3. Put the menu column headers in to create keys for menu dictionaries"
   ]
  },
  {
   "cell_type": "code",
   "execution_count": 61,
   "id": "hollywood-crowd",
   "metadata": {},
   "outputs": [],
   "source": [
    "\n",
    "#Initialize dict object to hold our key-value pairs of items and metrics\n",
    "report = {}\n",
    "# get labels from csv header\n",
    "menu_item_lab = menu_header [0]\n",
    "menu_cat_lab = menu_header[1]\n",
    "menu_desc_lab = menu_header [2]\n",
    "menu_price_lab = menu_header[3]\n",
    "menu_cost_lab = menu_header [4]\n"
   ]
  },
  {
   "cell_type": "markdown",
   "id": "sharp-jumping",
   "metadata": {},
   "source": [
    "### 4. Put menu in a menu dictioary\n",
    "#### 4.1 Question would it have been more efficient to just create this dictionary instead of going through list?"
   ]
  },
  {
   "cell_type": "code",
   "execution_count": 62,
   "id": "superior-interest",
   "metadata": {},
   "outputs": [],
   "source": [
    "# dictioary for menu items first so it can be indexed from sales.\n",
    "# assume there are no duplicates in \n",
    "# create empty entry into sales data for each entry. \n",
    "menu_dict = {} # inititalize menu dictionary\n",
    "for menu_item in menu:\n",
    "    # create nested dictionary\n",
    "    nest_dict = {menu_cat_lab: menu_item[1], menu_desc_lab: menu_item[2],menu_price_lab:menu_item [3], menu_cost_lab: menu_item[4]}\n",
    "    #add to menu dictionary\n",
    "    menu_dict [menu_item[0]]= nest_dict\n",
    "    "
   ]
  },
  {
   "cell_type": "markdown",
   "id": "guilty-liberia",
   "metadata": {},
   "source": [
    "### 5.0 create a total sales dictionary. \n",
    "#### 5.1 Take items from sales list\n",
    "#### 5.2 if it is dictionary, update count.\n",
    "#### 5.3 If it not total sales dictionary, add it and initialize the count\n",
    "#### 5.4 if no match then prints error statement to console\n",
    "#### 5.5 Does not add in menu items where there were no sales. For completeness it should I suppose. This is an optional exercise :) "
   ]
  },
  {
   "cell_type": "code",
   "execution_count": 63,
   "id": "sunrise-manitoba",
   "metadata": {},
   "outputs": [],
   "source": [
    "total_sales  = {}\n",
    "# create dictionary of sales data summary\n",
    "\n",
    "for sales_item in sales:       \n",
    "    #just read from sales, and add item and increment count. total revenue, cogs,\n",
    "    #outside loop for efficiency\n",
    "    if sales_item[4] in total_sales: # aleady in total sales, then just update count\n",
    "        total_sales [sales_item[4]]['01-count']  += int(sales_item [3]) #increment by  \n",
    "    \n",
    "    #otherwise add the times. This is so that if something comes into sales that is not menu, it is added. \n",
    "    else:\n",
    "        # create nested item\n",
    "        # check if sales item is in menu\n",
    "        if sales_item[4] in menu_dict:\n",
    "            #if it is menu intialize dictionary and with initial sale and leave revenue, cogs and profit for later.            \n",
    "            nested_sale = {'01-count': int(sales_item [3]),'02-revenue':0, '03-cogs':0, '04-profit':0}\n",
    "            #create entry in total_sales with menu_item as key\n",
    "            total_sales[sales_item[4]] = nested_sale \n",
    "        else:\n",
    "            print (f\"{sales_item} does not equal ! NO MATCH\")"
   ]
  },
  {
   "cell_type": "markdown",
   "id": "textile-tackle",
   "metadata": {},
   "source": [
    "### 6.0 Update sums\n",
    "#### 6.1 look up COG and Price from menu dictionry\n",
    "#### 6.2 based on item count, compute total sales, total cogs, and total profit"
   ]
  },
  {
   "cell_type": "code",
   "execution_count": 64,
   "id": "mature-advancement",
   "metadata": {},
   "outputs": [],
   "source": [
    "# loop through total_slaes and compute values\n",
    "for menu_item in total_sales:\n",
    "#     make into variables for readability\n",
    "    item_cogs = int(menu_dict[menu_item][menu_cost_lab])\n",
    "    item_price = int(menu_dict[menu_item][menu_price_lab])\n",
    "    total_sales[menu_item]['02-revenue'] = item_price * total_sales[menu_item]['01-count'] # count by price\n",
    "    total_sales[menu_item]['03-cogs'] = item_cogs * total_sales[menu_item]['01-count']\n",
    "    total_sales[menu_item]['04-profit']  = total_sales[menu_item]['02-revenue'] - total_sales[menu_item]['03-cogs']\n",
    "    "
   ]
  },
  {
   "cell_type": "markdown",
   "id": "substantial-teach",
   "metadata": {},
   "source": [
    "### 7.0 Write results into output.txt"
   ]
  },
  {
   "cell_type": "code",
   "execution_count": 67,
   "id": "popular-croatia",
   "metadata": {},
   "outputs": [],
   "source": [
    "text_file_path = Path('./output.text')\n",
    "with open(text_file_path, 'w') as out_file:\n",
    "    for tot_sales_item in total_sales:\n",
    "        out_file.write(f'{tot_sales_item} {total_sales[tot_sales_item]}\\n')"
   ]
  }
 ],
 "metadata": {
  "kernelspec": {
   "display_name": "Python 3",
   "language": "python",
   "name": "python3"
  },
  "language_info": {
   "codemirror_mode": {
    "name": "ipython",
    "version": 3
   },
   "file_extension": ".py",
   "mimetype": "text/x-python",
   "name": "python",
   "nbconvert_exporter": "python",
   "pygments_lexer": "ipython3",
   "version": "3.7.10"
  }
 },
 "nbformat": 4,
 "nbformat_minor": 5
}
